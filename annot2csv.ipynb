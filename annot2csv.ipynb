{
 "cells": [
  {
   "cell_type": "code",
   "execution_count": 125,
   "metadata": {},
   "outputs": [],
   "source": [
    "from tkinter import Tk\n",
    "from tkinter.filedialog import askopenfilename\n",
    "import pandas as pd\n",
    "from math import floor, ceil\n",
    "\n",
    "fname = askopenfilename()"
   ]
  },
  {
   "cell_type": "code",
   "execution_count": 126,
   "metadata": {},
   "outputs": [],
   "source": [
    "class annot:\n",
    "    def __init__(self): #add fname, and calcium options\n",
    "        self.channels = []\n",
    "        self.annots = []\n",
    "        # initilize dataframe of channels\n",
    "\n",
    "    def add_ch(self, ch):\n",
    "        self.channels.append(ch)\n",
    "\n",
    "    def add_an(self, an):\n",
    "        self.annots.append(an)"
   ]
  },
  {
   "cell_type": "code",
   "execution_count": 127,
   "metadata": {},
   "outputs": [],
   "source": [
    "esr530 = annot()\n",
    "stamp_count = [99] * 6747\n",
    "t_offset = 0.256 #you should probably set this to 0.\n",
    "vid_time = 263634/585.937500 - t_offset #frame count/frame rate for total video time in seconds\n",
    "behav_dict = {}\n",
    "\n",
    "with open(fname) as file:\n",
    "    col = False\n",
    "    behav_list = stamp_count[:] #initilizes list of 0 (no behavior)\n",
    "    for line in file:\n",
    "        #if 'Annotation stop frame' in line:\n",
    "\n",
    "        if 'List of channels' in line:\n",
    "            ch = file.readline()\n",
    "            while ch != '\\n':\n",
    "                esr530.add_ch(ch[0:-1])\n",
    "                ch = file.readline()\n",
    "\n",
    "        elif 'List of annotations' in line:\n",
    "            an = file.readline()\n",
    "            while an != '\\n':\n",
    "                esr530.add_an(an[0:-1])\n",
    "                an = file.readline()\n",
    "\n",
    "        elif '-'*10 in line:\n",
    "            if col:\n",
    "                behav_dict[col] = behav_list\n",
    "                behav_list = stamp_count[:]\n",
    "            \n",
    "            col = line.strip('-\\n')\n",
    "        \n",
    "        elif '>' in line:\n",
    "            bi = esr530.annots.index(line.strip('>\\n'))\n",
    "            file.readline() #need to skip a line\n",
    "            t = file.readline()\n",
    "            while t != '\\n':\n",
    "                start_frame = (float(t.split()[0]) - t_offset) / vid_time * (len(stamp_count)-1)\n",
    "                if start_frame < 0:\n",
    "                    start_frame = 0\n",
    "                stop_frame = (float(t.split()[1]) - t_offset) / vid_time * (len(stamp_count)-1)\n",
    "                if stop_frame > len(stamp_count)-1:\n",
    "                    stop_frame = len(stamp_count)-1\n",
    "                for i in range(floor(start_frame), ceil(stop_frame)):\n",
    "                    behav_list[i]=bi\n",
    "                t = file.readline()\n",
    "    behav_dict[col] = behav_list\n",
    "    behav_list = stamp_count[:]\n",
    "\n",
    "    df = pd.DataFrame(behav_dict)"
   ]
  },
  {
   "cell_type": "code",
   "execution_count": 129,
   "metadata": {},
   "outputs": [],
   "source": [
    "dfb = pd.DataFrame(behav_dict)\n",
    "df_key = pd.DataFrame(esr530.annots)\n",
    "\n",
    "dfb.to_csv('esr530-t6_annot.csv', index=False)\n",
    "df_key.to_csv('esr530-t6_key.csv', header=False)\n",
    "\n",
    "with open('esr530-t6_key.csv', 'a') as c: # probably a more readable alternative to this\n",
    "    c.write('99,none')"
   ]
  }
 ],
 "metadata": {
  "kernelspec": {
   "display_name": "bento",
   "language": "python",
   "name": "python3"
  },
  "language_info": {
   "codemirror_mode": {
    "name": "ipython",
    "version": 3
   },
   "file_extension": ".py",
   "mimetype": "text/x-python",
   "name": "python",
   "nbconvert_exporter": "python",
   "pygments_lexer": "ipython3",
   "version": "3.9.7"
  },
  "orig_nbformat": 4
 },
 "nbformat": 4,
 "nbformat_minor": 2
}
